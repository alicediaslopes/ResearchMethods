{
 "cells": [
  {
   "cell_type": "markdown",
   "id": "b9b0928d",
   "metadata": {},
   "source": [
    "# Understanding the transition to full-time education after secondary school"
   ]
  },
  {
   "cell_type": "markdown",
   "id": "b4087874",
   "metadata": {},
   "source": [
    "To exemplify how we can use survey research to measure population characteristics, we will examine the factors that are associated with the transition to full-time education after secondary school in England and Wales. Specifically, we will analyse whether student's socioeconomic background and school trajectories are associated with this transition. We will show the R coding for descriptive statistics and bivariate analysis.\n",
    "\n",
    "We will use the Youth Cohort Study in England and Wales, 2004 - 2007. You can read a full description, the data documentation and how to download the data from UK Data Service on the Moodle page. \n",
    "\n",
    "We are using a simplified version of the dataset in this exercise. The step-by-step on how to prepare the data and the script with the coding to recreate the dataset used in this exercise are available on the \"Getting started with R for the assignment and dissertation\" page. "
   ]
  },
  {
   "cell_type": "markdown",
   "id": "31d1d3a2",
   "metadata": {},
   "source": [
    "First, we need to set up Jupyter Notebook with the R packages. In this notebook, we will only use packages associated with the *tidyverse*. You can read more about them [here](https://www.tidyverse.org/). To install a package in R, you will need to use the *install.packages()* command. You don't need to install any packages for this exercise as the Noteable team has already pre-installed them in Jupyter Notebooks."
   ]
  },
  {
   "cell_type": "code",
   "execution_count": 2,
   "id": "0f09d5c9",
   "metadata": {},
   "outputs": [
    {
     "name": "stderr",
     "output_type": "stream",
     "text": [
      "Warning message in system(\"timedatectl\", intern = TRUE):\n",
      "“running command 'timedatectl' had status 1”\n",
      "── \u001b[1mAttaching packages\u001b[22m ─────────────────────────────────────── tidyverse 1.3.2 ──\n",
      "\u001b[32m✔\u001b[39m \u001b[34mggplot2\u001b[39m 3.4.3      \u001b[32m✔\u001b[39m \u001b[34mpurrr  \u001b[39m 1.0.1 \n",
      "\u001b[32m✔\u001b[39m \u001b[34mtibble \u001b[39m 3.2.1      \u001b[32m✔\u001b[39m \u001b[34mdplyr  \u001b[39m 1.0.10\n",
      "\u001b[32m✔\u001b[39m \u001b[34mtidyr  \u001b[39m 1.3.0      \u001b[32m✔\u001b[39m \u001b[34mstringr\u001b[39m 1.5.0 \n",
      "\u001b[32m✔\u001b[39m \u001b[34mreadr  \u001b[39m 2.1.4      \u001b[32m✔\u001b[39m \u001b[34mforcats\u001b[39m 1.0.0 \n",
      "Warning message:\n",
      "“package ‘ggplot2’ was built under R version 4.2.3”\n",
      "Warning message:\n",
      "“package ‘tibble’ was built under R version 4.2.3”\n",
      "Warning message:\n",
      "“package ‘tidyr’ was built under R version 4.2.3”\n",
      "Warning message:\n",
      "“package ‘readr’ was built under R version 4.2.3”\n",
      "Warning message:\n",
      "“package ‘purrr’ was built under R version 4.2.3”\n",
      "Warning message:\n",
      "“package ‘stringr’ was built under R version 4.2.3”\n",
      "Warning message:\n",
      "“package ‘forcats’ was built under R version 4.2.3”\n",
      "── \u001b[1mConflicts\u001b[22m ────────────────────────────────────────── tidyverse_conflicts() ──\n",
      "\u001b[31m✖\u001b[39m \u001b[34mdplyr\u001b[39m::\u001b[32mfilter()\u001b[39m masks \u001b[34mstats\u001b[39m::filter()\n",
      "\u001b[31m✖\u001b[39m \u001b[34mdplyr\u001b[39m::\u001b[32mlag()\u001b[39m    masks \u001b[34mstats\u001b[39m::lag()\n"
     ]
    }
   ],
   "source": [
    "library(tidyverse) # calling the tidyverse package"
   ]
  },
  {
   "cell_type": "markdown",
   "id": "0c27a848",
   "metadata": {},
   "source": [
    "We are going to use and open the dataset for the Youth Cohort Study in England and Wales, 2004 - 2007. The dataset is saved in the Jupyter Notebook folder as a CVS file ('youth_study.csv). We will assign the dataset to an R object named 'youth_data'. When you run the *read_csv()* command, it prints out a column specification that gives the name and type of each column."
   ]
  },
  {
   "cell_type": "code",
   "execution_count": 3,
   "id": "95898021",
   "metadata": {},
   "outputs": [
    {
     "name": "stderr",
     "output_type": "stream",
     "text": [
      "\u001b[1mRows: \u001b[22m\u001b[34m14003\u001b[39m \u001b[1mColumns: \u001b[22m\u001b[34m9\u001b[39m\n",
      "\u001b[36m──\u001b[39m \u001b[1mColumn specification\u001b[22m \u001b[36m────────────────────────────────────────────────────────\u001b[39m\n",
      "\u001b[1mDelimiter:\u001b[22m \",\"\n",
      "\u001b[31mchr\u001b[39m (8): gender, truancy_y11, ethnicity, school_type, full_educ, father_educ...\n",
      "\u001b[32mdbl\u001b[39m (1): total_gcse\n",
      "\n",
      "\u001b[36mℹ\u001b[39m Use `spec()` to retrieve the full column specification for this data.\n",
      "\u001b[36mℹ\u001b[39m Specify the column types or set `show_col_types = FALSE` to quiet this message.\n"
     ]
    }
   ],
   "source": [
    "youth_data <- read_csv(\"youth_study.csv\") # opening and assigning the dataset to an object"
   ]
  },
  {
   "cell_type": "markdown",
   "id": "fc321f7e",
   "metadata": {},
   "source": [
    "The dataset comprises 7 character (chr) variables - information that R recognises as text - and one double (dbl) precision floating point number - information that R recognises as a  numeric variable with decimal points. \n",
    "\n",
    "The character variables are gender (*gender*), truancy at year 11 (*truancy_y11*), hours in total each week studying or doing homework (*hours_study*) enrollment in full-time education after secondary school (*full_educ*), indicator variables for father (*father_educ*) and mother (*mother_educ*) with higher education and highest qualification held at year 11 (*qual_y11*). The numeric variable is the total GCSE score at year 11 (*total_gcse*). \n",
    "\n",
    "We can use the *head()* to display the first six rows present in the input data frame."
   ]
  },
  {
   "cell_type": "code",
   "execution_count": 4,
   "id": "d5c2e64f",
   "metadata": {},
   "outputs": [
    {
     "data": {
      "text/html": [
       "<table class=\"dataframe\">\n",
       "<caption>A tibble: 6 × 9</caption>\n",
       "<thead>\n",
       "\t<tr><th scope=col>total_gcse</th><th scope=col>gender</th><th scope=col>truancy_y11</th><th scope=col>ethnicity</th><th scope=col>school_type</th><th scope=col>full_educ</th><th scope=col>father_educ</th><th scope=col>mother_educ</th><th scope=col>qual_y11</th></tr>\n",
       "\t<tr><th scope=col>&lt;dbl&gt;</th><th scope=col>&lt;chr&gt;</th><th scope=col>&lt;chr&gt;</th><th scope=col>&lt;chr&gt;</th><th scope=col>&lt;chr&gt;</th><th scope=col>&lt;chr&gt;</th><th scope=col>&lt;chr&gt;</th><th scope=col>&lt;chr&gt;</th><th scope=col>&lt;chr&gt;</th></tr>\n",
       "</thead>\n",
       "<tbody>\n",
       "\t<tr><td>424</td><td>Female</td><td>Occasional truancy</td><td>White       </td><td>Welsh</td><td>Yes</td><td>Yes         </td><td>Not sure    </td><td>No</td></tr>\n",
       "\t<tr><td>302</td><td>Male  </td><td>No truancy        </td><td>White       </td><td>Welsh</td><td>NA </td><td>Yes         </td><td>No          </td><td>No</td></tr>\n",
       "\t<tr><td>  0</td><td>Male  </td><td>No truancy        </td><td>Not answered</td><td>Welsh</td><td>NA </td><td>Not answered</td><td>Not answered</td><td>No</td></tr>\n",
       "\t<tr><td>484</td><td>Female</td><td>No truancy        </td><td>White       </td><td>Welsh</td><td>Yes</td><td>No          </td><td>No          </td><td>No</td></tr>\n",
       "\t<tr><td>106</td><td>Male  </td><td>Occasional truancy</td><td>White       </td><td>Welsh</td><td>NA </td><td>Not answered</td><td>Not answered</td><td>No</td></tr>\n",
       "\t<tr><td>260</td><td>Female</td><td>Occasional truancy</td><td>White       </td><td>Welsh</td><td>NA </td><td>Not answered</td><td>No          </td><td>No</td></tr>\n",
       "</tbody>\n",
       "</table>\n"
      ],
      "text/latex": [
       "A tibble: 6 × 9\n",
       "\\begin{tabular}{lllllllll}\n",
       " total\\_gcse & gender & truancy\\_y11 & ethnicity & school\\_type & full\\_educ & father\\_educ & mother\\_educ & qual\\_y11\\\\\n",
       " <dbl> & <chr> & <chr> & <chr> & <chr> & <chr> & <chr> & <chr> & <chr>\\\\\n",
       "\\hline\n",
       "\t 424 & Female & Occasional truancy & White        & Welsh & Yes & Yes          & Not sure     & No\\\\\n",
       "\t 302 & Male   & No truancy         & White        & Welsh & NA  & Yes          & No           & No\\\\\n",
       "\t   0 & Male   & No truancy         & Not answered & Welsh & NA  & Not answered & Not answered & No\\\\\n",
       "\t 484 & Female & No truancy         & White        & Welsh & Yes & No           & No           & No\\\\\n",
       "\t 106 & Male   & Occasional truancy & White        & Welsh & NA  & Not answered & Not answered & No\\\\\n",
       "\t 260 & Female & Occasional truancy & White        & Welsh & NA  & Not answered & No           & No\\\\\n",
       "\\end{tabular}\n"
      ],
      "text/markdown": [
       "\n",
       "A tibble: 6 × 9\n",
       "\n",
       "| total_gcse &lt;dbl&gt; | gender &lt;chr&gt; | truancy_y11 &lt;chr&gt; | ethnicity &lt;chr&gt; | school_type &lt;chr&gt; | full_educ &lt;chr&gt; | father_educ &lt;chr&gt; | mother_educ &lt;chr&gt; | qual_y11 &lt;chr&gt; |\n",
       "|---|---|---|---|---|---|---|---|---|\n",
       "| 424 | Female | Occasional truancy | White        | Welsh | Yes | Yes          | Not sure     | No |\n",
       "| 302 | Male   | No truancy         | White        | Welsh | NA  | Yes          | No           | No |\n",
       "|   0 | Male   | No truancy         | Not answered | Welsh | NA  | Not answered | Not answered | No |\n",
       "| 484 | Female | No truancy         | White        | Welsh | Yes | No           | No           | No |\n",
       "| 106 | Male   | Occasional truancy | White        | Welsh | NA  | Not answered | Not answered | No |\n",
       "| 260 | Female | Occasional truancy | White        | Welsh | NA  | Not answered | No           | No |\n",
       "\n"
      ],
      "text/plain": [
       "  total_gcse gender truancy_y11        ethnicity    school_type full_educ\n",
       "1 424        Female Occasional truancy White        Welsh       Yes      \n",
       "2 302        Male   No truancy         White        Welsh       NA       \n",
       "3   0        Male   No truancy         Not answered Welsh       NA       \n",
       "4 484        Female No truancy         White        Welsh       Yes      \n",
       "5 106        Male   Occasional truancy White        Welsh       NA       \n",
       "6 260        Female Occasional truancy White        Welsh       NA       \n",
       "  father_educ  mother_educ  qual_y11\n",
       "1 Yes          Not sure     No      \n",
       "2 Yes          No           No      \n",
       "3 Not answered Not answered No      \n",
       "4 No           No           No      \n",
       "5 Not answered Not answered No      \n",
       "6 Not answered No           No      "
      ]
     },
     "metadata": {},
     "output_type": "display_data"
    }
   ],
   "source": [
    "head(youth_data)"
   ]
  },
  {
   "cell_type": "markdown",
   "id": "daffd2de",
   "metadata": {},
   "source": [
    "To begin, we will examine the dependent variable *full_educ*. This variable pertains to whether the respondent is currently enrolled in a full-time education course at school or college. The question was asked during sweep 2 of the survey, which took place one year after the end of compulsory secondary education. "
   ]
  },
  {
   "cell_type": "markdown",
   "id": "ad0e0c0a",
   "metadata": {},
   "source": [
    "First, we will check if the variable is recorded with the correct level of measurement. We can use the command *str()* or *class()* commands. We use the $ in R to access the variable we are interested in the dataset."
   ]
  },
  {
   "cell_type": "code",
   "execution_count": 5,
   "id": "593db1ce",
   "metadata": {},
   "outputs": [
    {
     "data": {
      "text/html": [
       "'character'"
      ],
      "text/latex": [
       "'character'"
      ],
      "text/markdown": [
       "'character'"
      ],
      "text/plain": [
       "[1] \"character\""
      ]
     },
     "metadata": {},
     "output_type": "display_data"
    }
   ],
   "source": [
    "class(youth_data$full_educ)"
   ]
  },
  {
   "cell_type": "markdown",
   "id": "c7a706f4",
   "metadata": {},
   "source": [
    "The variable is recorded as a character variable. As we discussed before, R doesn’t deal well with character variables. Therefore, we will transform it into a categorical variable - factor in R. We can use the *as.factor* command to convert this character to the factor class. We will assign the factor variable to the same variable. After, we will check if R transformed our variable of interest."
   ]
  },
  {
   "cell_type": "code",
   "execution_count": 6,
   "id": "bf8ea400",
   "metadata": {},
   "outputs": [
    {
     "data": {
      "text/html": [
       "'factor'"
      ],
      "text/latex": [
       "'factor'"
      ],
      "text/markdown": [
       "'factor'"
      ],
      "text/plain": [
       "[1] \"factor\""
      ]
     },
     "metadata": {},
     "output_type": "display_data"
    }
   ],
   "source": [
    "youth_data$full_educ <- as.factor(youth_data$full_educ)\n",
    "class(youth_data$full_educ) # checking if full_educ is recorded with the correct class after transformation"
   ]
  },
  {
   "cell_type": "markdown",
   "id": "0405fb7c",
   "metadata": {},
   "source": [
    "The *table()* command will show the number of cases in each category (frequency table)."
   ]
  },
  {
   "cell_type": "code",
   "execution_count": 7,
   "id": "6f646d62",
   "metadata": {},
   "outputs": [
    {
     "data": {
      "text/plain": [
       "\n",
       "  No  Yes \n",
       "1934 7886 "
      ]
     },
     "metadata": {},
     "output_type": "display_data"
    }
   ],
   "source": [
    "table(youth_data$full_educ)"
   ]
  },
  {
   "cell_type": "markdown",
   "id": "5f414fc5",
   "metadata": {},
   "source": [
    "By default, the *table()* command does not include the missing information. To check whether there is any missing information, we can include the *exclude = NULL* argument."
   ]
  },
  {
   "cell_type": "code",
   "execution_count": 8,
   "id": "89619408",
   "metadata": {},
   "outputs": [
    {
     "data": {
      "text/plain": [
       "\n",
       "  No  Yes <NA> \n",
       "1934 7886 4183 "
      ]
     },
     "metadata": {},
     "output_type": "display_data"
    }
   ],
   "source": [
    "table(youth_data$full_educ, exclude = NULL)"
   ]
  },
  {
   "cell_type": "markdown",
   "id": "ed4df12c",
   "metadata": {},
   "source": [
    "The *prop.table()* command will show the proportion of occurrences for each category relative to the total number of observations (table of proportions). We need to include the table we are interested in calculating the proportion within the command."
   ]
  },
  {
   "cell_type": "code",
   "execution_count": 9,
   "id": "b34c44d6",
   "metadata": {},
   "outputs": [
    {
     "data": {
      "text/plain": [
       "\n",
       "      No      Yes \n",
       "0.196945 0.803055 "
      ]
     },
     "metadata": {},
     "output_type": "display_data"
    }
   ],
   "source": [
    "prop.table(table(youth_data$full_educ))"
   ]
  },
  {
   "cell_type": "markdown",
   "id": "7cecd72f",
   "metadata": {},
   "source": [
    "If we want to find the proportion of missing cases, we need to include the *exclude = NULL* argument."
   ]
  },
  {
   "cell_type": "code",
   "execution_count": 10,
   "id": "7a63eea4",
   "metadata": {},
   "outputs": [
    {
     "data": {
      "text/plain": [
       "\n",
       "       No       Yes      <NA> \n",
       "0.1381133 0.5631650 0.2987217 "
      ]
     },
     "metadata": {},
     "output_type": "display_data"
    }
   ],
   "source": [
    "prop.table(table(youth_data$full_educ, exclude = NULL))"
   ]
  },
  {
   "cell_type": "markdown",
   "id": "5d092fda",
   "metadata": {},
   "source": [
    "If we want to calculate the percentage, we just need to multiply the prop.table by 100."
   ]
  },
  {
   "cell_type": "code",
   "execution_count": 11,
   "id": "dfa8af75",
   "metadata": {},
   "outputs": [
    {
     "data": {
      "text/plain": [
       "\n",
       "     No     Yes \n",
       "19.6945 80.3055 "
      ]
     },
     "metadata": {},
     "output_type": "display_data"
    }
   ],
   "source": [
    "100*prop.table(table(youth_data$full_educ))"
   ]
  },
  {
   "cell_type": "markdown",
   "id": "3ae72707",
   "metadata": {},
   "source": [
    "In R, you can always assign tables to objects and simply your codes. For example:"
   ]
  },
  {
   "cell_type": "code",
   "execution_count": 12,
   "id": "629af364",
   "metadata": {},
   "outputs": [
    {
     "data": {
      "text/plain": [
       "\n",
       "      No      Yes \n",
       "0.196945 0.803055 "
      ]
     },
     "metadata": {},
     "output_type": "display_data"
    }
   ],
   "source": [
    "table1 <- table(youth_data$full_educ) # assigning the table to an object \n",
    "prop.table(table1) # printing the table of proportions for 'table1'"
   ]
  },
  {
   "cell_type": "markdown",
   "id": "583a71d8",
   "metadata": {},
   "source": [
    "Based on the frequency table data, we can see that 56.32% of survey participants transitioned to full-time education, while 13.81% did not. However, we must note that a significant 29.87% of participants have missing information. For the purposes of this exercise, we will distinguish the missing cases as a separate category in the dependent variable or omit them from the analysis. However, it is important to thoroughly investigate missing cases when analysing your data for your dissertation. You can do that by examining how the missing values are associated with other variables in the dataset, such as gender, ethnicity, social class, and so forth."
   ]
  },
  {
   "cell_type": "markdown",
   "id": "f0f0760b",
   "metadata": {},
   "source": [
    "We can now generate a graph to display the distribution of our dependent variable. As it is a categorical variable, we have the option of using either a bar chart or a pie chart. There are many different methods for creating a graph in R, with *ggplot2* being a particularly well-regarded package that produces visually appealing plots. Although the coding for ggplot2 may seem intimidating at first, there are numerous online resources available to guide you through the process. You can simply copy and paste the code and make any necessary modifications. One helpful resource is the [R Cookbook](http://www.cookbook-r.com/Graphs/), which presents the codes for common visualisations."
   ]
  },
  {
   "cell_type": "code",
   "execution_count": 13,
   "id": "83f04d48",
   "metadata": {},
   "outputs": [
    {
     "data": {
      "image/png": "[encoded data removed]",
      "text/plain": [
       "plot without title"
      ]
     },
     "metadata": {
      "image/png": {
       "height": 420,
       "width": 420
      }
     },
     "output_type": "display_data"
    }
   ],
   "source": [
    "# Bar chart\n",
    "ggplot(youth_data, aes(full_educ)) +\n",
    "  geom_bar() +\n",
    "  xlab('Currently enrolled in a full-time education course at school or college')"
   ]
  },
  {
   "cell_type": "markdown",
   "id": "8621a0aa",
   "metadata": {},
   "source": [
    "For the bar chart, the ggplot2 default is to present the number of cases. You have to include arguments in the *geom_bar* and *scale_y* layers of the graph to get the percentage. "
   ]
  },
  {
   "cell_type": "code",
   "execution_count": 14,
   "id": "d3b7a5de",
   "metadata": {},
   "outputs": [
    {
     "name": "stderr",
     "output_type": "stream",
     "text": [
      "Warning message:\n",
      "“\u001b[1m\u001b[22mThe dot-dot notation (`..count..`) was deprecated in ggplot2 3.4.0.\n",
      "\u001b[36mℹ\u001b[39m Please use `after_stat(count)` instead.”\n"
     ]
    },
    {
     "data": {
      "image/png": "[encoded data removed]",
      "text/plain": [
       "plot without title"
      ]
     },
     "metadata": {
      "image/png": {
       "height": 420,
       "width": 420
      }
     },
     "output_type": "display_data"
    }
   ],
   "source": [
    "# Proportion bar plot\n",
    "ggplot(youth_data, aes(full_educ)) +\n",
    "  geom_bar(aes(y = (..count..)/sum(..count..))) + \n",
    "  scale_y_continuous(labels=scales::percent) +\n",
    "  xlab('Currently enrolled in a full-time education course at school or college') +\n",
    "  ylab(\"Relative frequencies\")"
   ]
  },
  {
   "cell_type": "markdown",
   "id": "b49c3989",
   "metadata": {},
   "source": [
    "Now that we explored our dependent variable, we can examine how it is associated with other variables of the dataset."
   ]
  },
  {
   "cell_type": "markdown",
   "id": "f87a98c5",
   "metadata": {},
   "source": [
    "## Bivariate Analysis"
   ]
  },
  {
   "cell_type": "markdown",
   "id": "706be1c1",
   "metadata": {},
   "source": [
    "## 1. Full-time education and truancy\n",
    "\n",
    "### Two-way frequency tables and tables of proportions"
   ]
  },
  {
   "cell_type": "markdown",
   "id": "53125b42",
   "metadata": {},
   "source": [
    "We want to know whether the transition to full-time education is associated with participants' school trajectories and socioeconomic backgrounds. First, we can examine whether school truancy in year 11 is associated with transitioning to full-time education.\n",
    "\n",
    "First, we will just check the variable for truancy. We will first check the class of the variable, transform it into a factor and then check the distribution."
   ]
  },
  {
   "cell_type": "code",
   "execution_count": 15,
   "id": "bb73c4bc",
   "metadata": {},
   "outputs": [
    {
     "data": {
      "text/html": [
       "'character'"
      ],
      "text/latex": [
       "'character'"
      ],
      "text/markdown": [
       "'character'"
      ],
      "text/plain": [
       "[1] \"character\""
      ]
     },
     "metadata": {},
     "output_type": "display_data"
    },
    {
     "data": {
      "text/plain": [
       "\n",
       "        No truancy       Not answered Occasional truancy Persistant truancy \n",
       "              9801                171               3692                339 "
      ]
     },
     "metadata": {},
     "output_type": "display_data"
    }
   ],
   "source": [
    "class(youth_data$truancy_y11) # checking the class\n",
    "youth_data$truancy_y11 <- as.factor(youth_data$truancy_y11) # transforming it to a factor\n",
    "table(youth_data$truancy_y11, exclude = NULL) # printing the frequency table"
   ]
  },
  {
   "cell_type": "markdown",
   "id": "7a04d870",
   "metadata": {},
   "source": [
    "'Not answered' is coded as a category, we will create a new variable (*new_truancy*) in which participants who did not answer the question about truancy will be coded as missing data. We will save the new variable in the dataset, for that reason, we assign it to *youth_data$new_truancy*. The arguments between [] are the logical statement and <- indicates the values we are assigning according to the statements. "
   ]
  },
  {
   "cell_type": "code",
   "execution_count": 16,
   "id": "6b817cd9",
   "metadata": {},
   "outputs": [
    {
     "name": "stderr",
     "output_type": "stream",
     "text": [
      "Warning message:\n",
      "“Unknown or uninitialised column: `new_truancy`.”\n"
     ]
    }
   ],
   "source": [
    "youth_data$new_truancy [youth_data$truancy_y11 == \"Not answered\"] <- NA\n",
    "youth_data$new_truancy [youth_data$truancy_y11 == \"Persistant truancy\"] <- 'Persistant truancy'\n",
    "youth_data$new_truancy [youth_data$truancy_y11 == \"Occasional truancy\"] <- 'Occasional truancy'\n",
    "youth_data$new_truancy [youth_data$truancy_y11 == \"No truancy\"] <- 'No truancy'"
   ]
  },
  {
   "cell_type": "markdown",
   "id": "5a464e2c",
   "metadata": {},
   "source": [
    "We can produce a frequency table to look at the association between the transition to full-time education after secondary school and truancy in year 11. In the coding below we are assigning the table to an object named 'table2'."
   ]
  },
  {
   "cell_type": "code",
   "execution_count": 17,
   "id": "88954bc2",
   "metadata": {},
   "outputs": [
    {
     "data": {
      "text/plain": [
       "     \n",
       "      No truancy Occasional truancy Persistant truancy\n",
       "  No        1050                734                125\n",
       "  Yes       6164               1611                 49"
      ]
     },
     "metadata": {},
     "output_type": "display_data"
    }
   ],
   "source": [
    "table2 <- table(youth_data$full_educ, youth_data$new_truancy) # assigning table to object\n",
    "table2 # print the object"
   ]
  },
  {
   "cell_type": "markdown",
   "id": "ba1cba2b",
   "metadata": {},
   "source": [
    "From the proportion table, we will follow the convention and include the total percentage in the independent variable (truancy). To include the total percentage in the dependent variable(columns), you need to include the argument *margin = 2* in the command below. If you want to see the total percentage in the rows, you just need to change the argument to *margin = 1*."
   ]
  },
  {
   "cell_type": "code",
   "execution_count": 18,
   "id": "3356941d",
   "metadata": {},
   "outputs": [
    {
     "data": {
      "text/plain": [
       "     \n",
       "      No truancy Occasional truancy Persistant truancy\n",
       "  No    14.55503           31.30064           71.83908\n",
       "  Yes   85.44497           68.69936           28.16092"
      ]
     },
     "metadata": {},
     "output_type": "display_data"
    }
   ],
   "source": [
    "100*prop.table(table2, margin = 2)"
   ]
  },
  {
   "cell_type": "markdown",
   "id": "618e5f81",
   "metadata": {},
   "source": [
    "Based on the percentage table, it is evident that a significant proportion of participants who experienced persistent truancy during Year 11 did not transition to full-time education (71.84%). On the other hand, a majority of participants who did not have truancy in Year 11 successfully transitioned to full-time education (85.45%)."
   ]
  },
  {
   "cell_type": "markdown",
   "id": "3b55b998",
   "metadata": {},
   "source": [
    "Now, we need to test whether the association between the two variables is due to chance or whether it is a statistically significant association. "
   ]
  },
  {
   "cell_type": "markdown",
   "id": "9bb7dce4",
   "metadata": {},
   "source": [
    "### Chi-squared test"
   ]
  },
  {
   "cell_type": "markdown",
   "id": "6b03a1fc",
   "metadata": {},
   "source": [
    "The chi-squared test in R is very straightforward. You use the *chisq.test()* command for the frequency table you are comparing the observed and expected frequencies. In our case, we want to know whether there is an association between the transition to full-time education after secondary school and truancy during Year 11. The frequency table for this association is in object ‘table2’ (see coding above). "
   ]
  },
  {
   "cell_type": "code",
   "execution_count": 19,
   "id": "bbfce6e1",
   "metadata": {},
   "outputs": [
    {
     "data": {
      "text/plain": [
       "\n",
       "\tPearson's Chi-squared test\n",
       "\n",
       "data:  table2\n",
       "X-squared = 621.23, df = 2, p-value < 2.2e-16\n"
      ]
     },
     "metadata": {},
     "output_type": "display_data"
    }
   ],
   "source": [
    "chisq.test(table2)"
   ]
  },
  {
   "cell_type": "markdown",
   "id": "42bc3bba",
   "metadata": {},
   "source": [
    "Based on the results of the chi-square test ($\\chi^{2}$ = 621.23, df = 2, and a p-value < 0.05), we can confidently reject the null hypothesis. This indicates that there is a statistically significant relationship between truancy and enrollment in full-time education after secondary school."
   ]
  },
  {
   "cell_type": "markdown",
   "id": "a7703fa9",
   "metadata": {},
   "source": [
    "## 2. Full-time education and parental education\n",
    "\n",
    "### Two-way frequency tables and tables of proportions\n",
    "\n",
    "We can do a similar analysis to see the association between the transition to full-time education after year 11 and whether one of the parents has a higher education degree.\n",
    "\n",
    "First, we need to create a new variable that combines both father and mother education, respectively *father_educ* and *mother_educ*."
   ]
  },
  {
   "cell_type": "code",
   "execution_count": 20,
   "id": "2aa84b39",
   "metadata": {},
   "outputs": [
    {
     "name": "stderr",
     "output_type": "stream",
     "text": [
      "Warning message:\n",
      "“Unknown or uninitialised column: `parents_educ`.”\n"
     ]
    },
    {
     "data": {
      "text/plain": [
       "\n",
       "None with HE  One with HE Both with HE \n",
       "        6219         2667         1494 "
      ]
     },
     "metadata": {},
     "output_type": "display_data"
    }
   ],
   "source": [
    "# creating a new variable 'parents_educ'\n",
    "youth_data$parents_educ [youth_data$father_educ == \"Yes\" & youth_data$mother_educ == \"Yes\" ] <- 2 # both parents with HE\n",
    "youth_data$parents_educ [youth_data$father_educ == \"Yes\" & youth_data$mother_educ != \"Yes\"] <- 1 # one parent with HE\n",
    "youth_data$parents_educ [youth_data$father_educ != \"Yes\" & youth_data$mother_educ == \"Yes\" ] <- 1 # one parent with HE\n",
    "youth_data$parents_educ [youth_data$father_educ == \"No\" & youth_data$mother_educ == \"No\" ] <- 0 # none of parents with HE\n",
    "\n",
    "# adding the labels to the new variable\n",
    "youth_data$parents_educ <- factor(youth_data$parents_educ, labels = c(\"None with HE\", \"One with HE\", \"Both with HE\"))\n",
    "\n",
    "# checking the new variable\n",
    "table(youth_data$parents_educ)"
   ]
  },
  {
   "cell_type": "markdown",
   "id": "9733d224",
   "metadata": {},
   "source": [
    "We can now run a frequency table and a probability table looking at the association between full-time education and the new variable for parental education."
   ]
  },
  {
   "cell_type": "code",
   "execution_count": 21,
   "id": "2608012a",
   "metadata": {},
   "outputs": [
    {
     "data": {
      "text/plain": [
       "     \n",
       "      None with HE One with HE Both with HE\n",
       "  No           939         257           61\n",
       "  Yes         3503        1722         1138"
      ]
     },
     "metadata": {},
     "output_type": "display_data"
    }
   ],
   "source": [
    "# frequency table\n",
    "table3 <- table(youth_data$full_educ, youth_data$parents_educ)\n",
    "table3 # print the object"
   ]
  },
  {
   "cell_type": "code",
   "execution_count": 22,
   "id": "41da2b80",
   "metadata": {},
   "outputs": [
    {
     "data": {
      "text/plain": [
       "     \n",
       "      None with HE One with HE Both with HE\n",
       "  No     21.139127   12.986357     5.087573\n",
       "  Yes    78.860873   87.013643    94.912427"
      ]
     },
     "metadata": {},
     "output_type": "display_data"
    }
   ],
   "source": [
    "# probability table\n",
    "100*prop.table(table3, margin = 2)"
   ]
  },
  {
   "cell_type": "markdown",
   "id": "8a0b4be2",
   "metadata": {},
   "source": [
    "Based on the percentage table, it appears that a higher percentage of participants whose parents have attained a higher education degree transitioned to full-time education after school (94.91%), compared to those whose parents did not (78.86%)."
   ]
  },
  {
   "cell_type": "markdown",
   "id": "0792a095",
   "metadata": {},
   "source": [
    "### Chi-squared test"
   ]
  },
  {
   "cell_type": "markdown",
   "id": "2af6cdf5",
   "metadata": {},
   "source": [
    "Based on the chi-squared test presented below ($\\chi^{2}$ = 200.5, df = 2, and a p-value < 0.05), we can reject the null hypothesis and conclude that there is a statistically significant association between the transition to full-time education and parental education."
   ]
  },
  {
   "cell_type": "code",
   "execution_count": 23,
   "id": "b79c3b92",
   "metadata": {},
   "outputs": [
    {
     "data": {
      "text/plain": [
       "\n",
       "\tPearson's Chi-squared test\n",
       "\n",
       "data:  table3\n",
       "X-squared = 200.5, df = 2, p-value < 2.2e-16\n"
      ]
     },
     "metadata": {},
     "output_type": "display_data"
    }
   ],
   "source": [
    "chisq.test(table3)"
   ]
  },
  {
   "cell_type": "markdown",
   "id": "16d2301d",
   "metadata": {},
   "source": [
    "## 3. Full-time education and GCSE test scores"
   ]
  },
  {
   "cell_type": "markdown",
   "id": "61cb1b87",
   "metadata": {},
   "source": [
    "Now, let's explore the association between GCSE scores and enrollment in full-time education after secondary school. To do this, we can compare the average GCSE scores of individuals who transitioned to full-time education with those who didn't use a t-test.\n",
    "\n",
    "First, let's take a quick look at the variable for GCSE scores. We will examine this variable in more deep this variable in the next exercise. "
   ]
  },
  {
   "cell_type": "code",
   "execution_count": 24,
   "id": "3d528559",
   "metadata": {},
   "outputs": [
    {
     "data": {
      "text/plain": [
       "   Min. 1st Qu.  Median    Mean 3rd Qu.    Max. \n",
       "    0.0   314.0   404.0   387.8   479.0   857.0 "
      ]
     },
     "metadata": {},
     "output_type": "display_data"
    }
   ],
   "source": [
    "summary(youth_data$total_gcse)"
   ]
  },
  {
   "cell_type": "markdown",
   "id": "05980180",
   "metadata": {},
   "source": [
    "The variable has a mean of 387.8 and a median of 404.\n",
    "\n",
    "We can use a boxplot to visualise the relationship between the two variables."
   ]
  },
  {
   "cell_type": "code",
   "execution_count": 25,
   "id": "9f21604d",
   "metadata": {},
   "outputs": [
    {
     "data": {
      "image/png": "[encoded data removed]",
      "text/plain": [
       "plot without title"
      ]
     },
     "metadata": {
      "image/png": {
       "height": 420,
       "width": 420
      }
     },
     "output_type": "display_data"
    }
   ],
   "source": [
    "ggplot(youth_data, aes(x=full_educ, y=total_gcse, fill=full_educ)) +\n",
    "  geom_boxplot(na.rm = T) +\n",
    "  theme_bw() +\n",
    "  xlab('') + ylab('Total GCSE')"
   ]
  },
  {
   "cell_type": "markdown",
   "id": "15765f50",
   "metadata": {},
   "source": [
    "The boxplot indicates that participants who transitioned to full-time education had a higher score than participants who did not transition. Now, let's perform a t-test to see if the difference in the mean between the two groups is statistically significant.\n",
    "\n",
    "### T-test "
   ]
  },
  {
   "cell_type": "code",
   "execution_count": 26,
   "id": "43284e89",
   "metadata": {},
   "outputs": [
    {
     "data": {
      "text/plain": [
       "\n",
       "\tTwo Sample t-test\n",
       "\n",
       "data:  youth_data$total_gcse by youth_data$full_educ\n",
       "t = -48.253, df = 9818, p-value < 2.2e-16\n",
       "alternative hypothesis: true difference in means between group No and group Yes is not equal to 0\n",
       "95 percent confidence interval:\n",
       " -147.9177 -136.3690\n",
       "sample estimates:\n",
       " mean in group No mean in group Yes \n",
       "         290.7032          432.8466 \n"
      ]
     },
     "metadata": {},
     "output_type": "display_data"
    }
   ],
   "source": [
    "t.test(youth_data$total_gcse ~ youth_data$full_educ, var.equal = TRUE)"
   ]
  },
  {
   "cell_type": "markdown",
   "id": "49629dc6",
   "metadata": {},
   "source": [
    "The t-test indicates that there is a statistically significant difference between the means of the two groups (\"transitioned\" and \"did not transition\"), with strong evidence to reject the null hypothesis. Participants who transitioned to full-time education have a significantly higher mean \"total_gcse\" score compared to participants who did not transition to full-time education after school. The confidence interval provides a range within which we can be 95 per cent confident that the true difference in means lies (between -147.92 and -136.37)."
   ]
  },
  {
   "cell_type": "markdown",
   "id": "4c635ac8",
   "metadata": {},
   "source": [
    "\n",
    "-----------------------------------------------------------------------------------------------------------------------------\n",
    "\n",
    "This is the end of this exercise.\n",
    "\n",
    "We hope you are starting to feel more confident about using quantitative methods :)"
   ]
  }
 ],
 "metadata": {
  "kernelspec": {
   "display_name": "R with Stan",
   "language": "R",
   "name": "ir"
  },
  "language_info": {
   "codemirror_mode": "r",
   "file_extension": ".r",
   "mimetype": "text/x-r-source",
   "name": "R",
   "pygments_lexer": "r",
   "version": "4.2.2"
  }
 },
 "nbformat": 4,
 "nbformat_minor": 5
}
