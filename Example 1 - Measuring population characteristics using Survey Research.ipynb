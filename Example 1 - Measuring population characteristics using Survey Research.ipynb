{
 "cells": [
  {
   "cell_type": "markdown",
   "id": "b9b0928d",
   "metadata": {},
   "source": [
    "# Understanding the transition to full-time education after secondary school"
   ]
  },
  {
   "cell_type": "markdown",
   "id": "b4087874",
   "metadata": {},
   "source": [
    "To exemplify how we can use survey research to measure population characteristics, we will examine the factors that are associated with the transition to full-time education after secondary school in England and Wales. Specifically, we will analyse whether student's socioeconomic background and school trajectories are associated with this transition. We will show the R coding for descriptive statistics and bivariate analysis.\n",
    "\n",
    "We will use the Youth Cohort Study in England and Wales, 2004 - 2007. You can read a full description, the data documentation and how to download the data from UK Data Service on the Moodle page. \n",
    "\n",
    "We are using a simplified version of the dataset in this exercise. The step-by-step on how to prepare the data and the script with the coding to recreate the dataset used in this exercise are available on the \"Getting started with R for the assignment and dissertation\" page. "
   ]
  },
  {
   "cell_type": "markdown",
   "id": "31d1d3a2",
   "metadata": {},
   "source": [
    "First, we need to set up Jupyter Notebook with the R packages. In this notebook, we will only use packages associated with the *tidyverse*. You can read more about them [here](https://www.tidyverse.org/). To install a package in R, you will need to use the *install.packages()* command. You don't need to install any packages for this exercise as the Noteable team has already pre-installed them in Jupyter Notebooks."
   ]
  },
  {
   "cell_type": "code",
   "execution_count": null,
   "id": "0f09d5c9",
   "metadata": {},
   "outputs": [],
   "source": [
    "library(tidyverse) # calling the tidyverse package"
   ]
  },
  {
   "cell_type": "markdown",
   "id": "0c27a848",
   "metadata": {},
   "source": [
    "We are going to use and open the dataset for the Youth Cohort Study in England and Wales, 2004 - 2007. The dataset is saved in the Jupyter Notebook folder as a CVS file ('youth_study.csv). We will assign the dataset to an R object named 'youth_data'. When you run the *read_csv()* command, it prints out a column specification that gives the name and type of each column."
   ]
  },
  {
   "cell_type": "code",
   "execution_count": null,
   "id": "95898021",
   "metadata": {},
   "outputs": [],
   "source": [
    "youth_data <- read_csv(\"youth_study.csv\") # opening and assigning the dataset to an object"
   ]
  },
  {
   "cell_type": "markdown",
   "id": "fc321f7e",
   "metadata": {},
   "source": [
    "The dataset comprises 7 character (chr) variables - information that R recognises as text - and one double (dbl) precision floating point number - information that R recognises as a  numeric variable with decimal points. \n",
    "\n",
    "The character variables are gender (*gender*), truancy at year 11 (*truancy_y11*), hours in total each week studying or doing homework (*hours_study*) enrollment in full-time education after secondary school (*full_educ*), indicator variables for father (*father_educ*) and mother (*mother_educ*) with higher education and highest qualification held at year 11 (*qual_y11*). The numeric variable is the total GCSE score at year 11 (*total_gcse*). \n",
    "\n",
    "We can use the *head()* to display the first six rows present in the input data frame."
   ]
  },
  {
   "cell_type": "code",
   "execution_count": null,
   "id": "d5c2e64f",
   "metadata": {},
   "outputs": [],
   "source": [
    "head(youth_data)"
   ]
  },
  {
   "cell_type": "markdown",
   "id": "daffd2de",
   "metadata": {},
   "source": [
    "To begin, we will examine the dependent variable *full_educ*. This variable pertains to whether the respondent is currently enrolled in a full-time education course at school or college. The question was asked during sweep 2 of the survey, which took place one year after the end of compulsory secondary education. "
   ]
  },
  {
   "cell_type": "markdown",
   "id": "ad0e0c0a",
   "metadata": {},
   "source": [
    "First, we will check if the variable is recorded with the correct level of measurement. We can use the command *str()* or *class()* commands. We use the $ in R to access the variable we are interested in the dataset."
   ]
  },
  {
   "cell_type": "code",
   "execution_count": null,
   "id": "593db1ce",
   "metadata": {},
   "outputs": [],
   "source": [
    "class(youth_data$full_educ)"
   ]
  },
  {
   "cell_type": "markdown",
   "id": "c7a706f4",
   "metadata": {},
   "source": [
    "The variable is recorded as a character variable. As we discussed before, R doesn’t deal well with character variables. Therefore, we will transform it into a categorical variable - factor in R. We can use the *as.factor* command to convert this character to the factor class. We will assign the factor variable to the same variable. After, we will check if R transformed our variable of interest."
   ]
  },
  {
   "cell_type": "code",
   "execution_count": null,
   "id": "bf8ea400",
   "metadata": {},
   "outputs": [],
   "source": [
    "youth_data$full_educ <- as.factor(youth_data$full_educ)\n",
    "class(youth_data$full_educ) # checking if full_educ is recorded with the correct class after transformation"
   ]
  },
  {
   "cell_type": "markdown",
   "id": "0405fb7c",
   "metadata": {},
   "source": [
    "The *table()* command will show the number of cases in each category (frequency table)."
   ]
  },
  {
   "cell_type": "code",
   "execution_count": null,
   "id": "6f646d62",
   "metadata": {},
   "outputs": [],
   "source": [
    "table(youth_data$full_educ)"
   ]
  },
  {
   "cell_type": "markdown",
   "id": "5f414fc5",
   "metadata": {},
   "source": [
    "By default, the *table()* command does not include the missing information. To check whether there is any missing information, we can include the *exclude = NULL* argument."
   ]
  },
  {
   "cell_type": "code",
   "execution_count": null,
   "id": "89619408",
   "metadata": {},
   "outputs": [],
   "source": [
    "table(youth_data$full_educ, exclude = NULL)"
   ]
  },
  {
   "cell_type": "markdown",
   "id": "ed4df12c",
   "metadata": {},
   "source": [
    "The *prop.table()* command will show the proportion of occurrences for each category relative to the total number of observations (table of proportions). We need to include the table we are interested in calculating the proportion within the command."
   ]
  },
  {
   "cell_type": "code",
   "execution_count": null,
   "id": "b34c44d6",
   "metadata": {},
   "outputs": [],
   "source": [
    "prop.table(table(youth_data$full_educ))"
   ]
  },
  {
   "cell_type": "markdown",
   "id": "7cecd72f",
   "metadata": {},
   "source": [
    "If we want to find the proportion of missing cases, we need to include the *exclude = NULL* argument."
   ]
  },
  {
   "cell_type": "code",
   "execution_count": null,
   "id": "7a63eea4",
   "metadata": {},
   "outputs": [],
   "source": [
    "prop.table(table(youth_data$full_educ, exclude = NULL))"
   ]
  },
  {
   "cell_type": "markdown",
   "id": "5d092fda",
   "metadata": {},
   "source": [
    "If we want to calculate the percentage, we just need to multiply the prop.table by 100."
   ]
  },
  {
   "cell_type": "code",
   "execution_count": 1,
   "id": "dfa8af75",
   "metadata": {},
   "outputs": [
    {
     "ename": "ERROR",
     "evalue": "Error in table(youth_data$full_educ): object 'youth_data' not found\n",
     "output_type": "error",
     "traceback": [
      "Error in table(youth_data$full_educ): object 'youth_data' not found\nTraceback:\n",
      "1. prop.table(table(youth_data$full_educ))",
      "2. table(youth_data$full_educ)"
     ]
    }
   ],
   "source": [
    "100*prop.table(table(youth_data$full_educ))"
   ]
  },
  {
   "cell_type": "markdown",
   "id": "3ae72707",
   "metadata": {},
   "source": [
    "In R, you can always assign tables to objects and simply your codes. For example:"
   ]
  },
  {
   "cell_type": "code",
   "execution_count": null,
   "id": "629af364",
   "metadata": {},
   "outputs": [],
   "source": [
    "table1 <- table(youth_data$full_educ) # assigning the table to an object \n",
    "prop.table(table1) # printing the table of proportions for 'table1'"
   ]
  },
  {
   "cell_type": "markdown",
   "id": "583a71d8",
   "metadata": {},
   "source": [
    "Based on the frequency table data, we can see that 56.32% of survey participants transitioned to full-time education, while 13.81% did not. However, we must note that a significant 29.87% of participants have missing information. For the purposes of this exercise, we will distinguish the missing cases as a separate category in the dependent variable or omit them from the analysis. However, it is important to thoroughly investigate missing cases when analysing your data for your dissertation. You can do that by examining how the missing values are associated with other variables in the dataset, such as gender, ethnicity, social class, and so forth."
   ]
  },
  {
   "cell_type": "markdown",
   "id": "f0f0760b",
   "metadata": {},
   "source": [
    "We can now generate a graph to display the distribution of our dependent variable. As it is a categorical variable, we have the option of using either a bar chart or a pie chart. There are many different methods for creating a graph in R, with *ggplot2* being a particularly well-regarded package that produces visually appealing plots. Although the coding for ggplot2 may seem intimidating at first, there are numerous online resources available to guide you through the process. You can simply copy and paste the code and make any necessary modifications. One helpful resource is the [R Cookbook](http://www.cookbook-r.com/Graphs/), which presents the codes for common visualisations."
   ]
  },
  {
   "cell_type": "code",
   "execution_count": null,
   "id": "83f04d48",
   "metadata": {},
   "outputs": [],
   "source": [
    "# Bar chart\n",
    "ggplot(youth_data, aes(full_educ)) +\n",
    "  geom_bar() +\n",
    "  xlab('Currently enrolled in a full-time education course at school or college')"
   ]
  },
  {
   "cell_type": "markdown",
   "id": "8621a0aa",
   "metadata": {},
   "source": [
    "For the bar chart, the ggplot2 default is to present the number of cases. You have to include arguments in the *geom_bar* and *scale_y* layers of the graph to get the percentage. "
   ]
  },
  {
   "cell_type": "code",
   "execution_count": null,
   "id": "d3b7a5de",
   "metadata": {},
   "outputs": [],
   "source": [
    "# Proportion bar plot\n",
    "ggplot(youth_data, aes(full_educ)) +\n",
    "  geom_bar(aes(y = (..count..)/sum(..count..))) + \n",
    "  scale_y_continuous(labels=scales::percent) +\n",
    "  xlab('Currently enrolled in a full-time education course at school or college') +\n",
    "  ylab(\"Relative frequencies\")"
   ]
  },
  {
   "cell_type": "markdown",
   "id": "b49c3989",
   "metadata": {},
   "source": [
    "Now that we explored our dependent variable, we can examine how it is associated with other variables of the dataset."
   ]
  },
  {
   "cell_type": "markdown",
   "id": "f87a98c5",
   "metadata": {},
   "source": [
    "## Bivariate Analysis"
   ]
  },
  {
   "cell_type": "markdown",
   "id": "706be1c1",
   "metadata": {},
   "source": [
    "## 1. Full-time education and truancy\n",
    "\n",
    "### Two-way frequency tables and tables of proportions"
   ]
  },
  {
   "cell_type": "markdown",
   "id": "53125b42",
   "metadata": {},
   "source": [
    "We want to know whether the transition to full-time education is associated with participants' school trajectories and socioeconomic backgrounds. First, we can examine whether school truancy in year 11 is associated with transitioning to full-time education.\n",
    "\n",
    "First, we will just check the variable for truancy. We will first check the class of the variable, transform it into a factor and then check the distribution."
   ]
  },
  {
   "cell_type": "code",
   "execution_count": null,
   "id": "bb73c4bc",
   "metadata": {},
   "outputs": [],
   "source": [
    "class(youth_data$truancy_y11) # checking the class\n",
    "youth_data$truancy_y11 <- as.factor(youth_data$truancy_y11) # transforming it to a factor\n",
    "table(youth_data$truancy_y11, exclude = NULL) # printing the frequency table"
   ]
  },
  {
   "cell_type": "markdown",
   "id": "7a04d870",
   "metadata": {},
   "source": [
    "'Not answered' is coded as a category, we will create a new variable (*new_truancy*) in which participants who did not answer the question about truancy will be coded as missing data. We will save the new variable in the dataset, for that reason, we assign it to *youth_data$new_truancy*. The arguments between [] are the logical statement and <- indicates the values we are assigning according to the statements. "
   ]
  },
  {
   "cell_type": "code",
   "execution_count": null,
   "id": "6b817cd9",
   "metadata": {},
   "outputs": [],
   "source": [
    "youth_data$new_truancy [youth_data$truancy_y11 == \"Not answered\"] <- NA\n",
    "youth_data$new_truancy [youth_data$truancy_y11 == \"Persistant truancy\"] <- 'Persistant truancy'\n",
    "youth_data$new_truancy [youth_data$truancy_y11 == \"Occasional truancy\"] <- 'Occasional truancy'\n",
    "youth_data$new_truancy [youth_data$truancy_y11 == \"No truancy\"] <- 'No truancy'"
   ]
  },
  {
   "cell_type": "markdown",
   "id": "5a464e2c",
   "metadata": {},
   "source": [
    "We can produce a frequency table to look at the association between the transition to full-time education after secondary school and truancy in year 11. In the coding below we are assigning the table to an object named 'table2'."
   ]
  },
  {
   "cell_type": "code",
   "execution_count": null,
   "id": "88954bc2",
   "metadata": {},
   "outputs": [],
   "source": [
    "table2 <- table(youth_data$full_educ, youth_data$new_truancy) # assigning table to object\n",
    "table2 # print the object"
   ]
  },
  {
   "cell_type": "markdown",
   "id": "ba1cba2b",
   "metadata": {},
   "source": [
    "From the proportion table, we will follow the convention and include the total percentage in the independent variable (truancy). To include the total percentage in the dependent variable(columns), you need to include the argument *margin = 2* in the command below. If you want to see the total percentage in the rows, you just need to change the argument to *margin = 1*."
   ]
  },
  {
   "cell_type": "code",
   "execution_count": null,
   "id": "3356941d",
   "metadata": {},
   "outputs": [],
   "source": [
    "100*prop.table(table2, margin = 2)"
   ]
  },
  {
   "cell_type": "markdown",
   "id": "618e5f81",
   "metadata": {},
   "source": [
    "Based on the percentage table, it is evident that a significant proportion of participants who experienced persistent truancy during Year 11 did not transition to full-time education (71.84%). On the other hand, a majority of participants who did not have truancy in Year 11 successfully transitioned to full-time education (85.45%)."
   ]
  },
  {
   "cell_type": "markdown",
   "id": "3b55b998",
   "metadata": {},
   "source": [
    "Now, we need to test whether the association between the two variables is due to chance or whether it is a statistically significant association. "
   ]
  },
  {
   "cell_type": "markdown",
   "id": "9bb7dce4",
   "metadata": {},
   "source": [
    "### Chi-squared test"
   ]
  },
  {
   "cell_type": "markdown",
   "id": "6b03a1fc",
   "metadata": {},
   "source": [
    "The chi-squared test in R is very straightforward. You use the *chisq.test()* command for the frequency table you are comparing the observed and expected frequencies. In our case, we want to know whether there is an association between the transition to full-time education after secondary school and truancy during Year 11. The frequency table for this association is in object ‘table2’ (see coding above). "
   ]
  },
  {
   "cell_type": "code",
   "execution_count": null,
   "id": "bbfce6e1",
   "metadata": {},
   "outputs": [],
   "source": [
    "chisq.test(table2)"
   ]
  },
  {
   "cell_type": "markdown",
   "id": "42bc3bba",
   "metadata": {},
   "source": [
    "Based on the results of the chi-square test ($\\chi^{2}$ = 621.23, df = 2, and a p-value < 0.05), we can confidently reject the null hypothesis. This indicates that there is a statistically significant relationship between truancy and enrollment in full-time education after secondary school."
   ]
  },
  {
   "cell_type": "markdown",
   "id": "a7703fa9",
   "metadata": {},
   "source": [
    "## 2. Full-time education and parental education\n",
    "\n",
    "### Two-way frequency tables and tables of proportions\n",
    "\n",
    "We can do a similar analysis to see the association between the transition to full-time education after year 11 and whether one of the parents has a higher education degree.\n",
    "\n",
    "First, we need to create a new variable that combines both father and mother education, respectively *father_educ* and *mother_educ*."
   ]
  },
  {
   "cell_type": "code",
   "execution_count": null,
   "id": "2aa84b39",
   "metadata": {},
   "outputs": [],
   "source": [
    "# creating a new variable 'parents_educ'\n",
    "youth_data$parents_educ [youth_data$father_educ == \"Yes\" & youth_data$mother_educ == \"Yes\" ] <- 2 # both parents with HE\n",
    "youth_data$parents_educ [youth_data$father_educ == \"Yes\" & youth_data$mother_educ != \"Yes\"] <- 1 # one parent with HE\n",
    "youth_data$parents_educ [youth_data$father_educ != \"Yes\" & youth_data$mother_educ == \"Yes\" ] <- 1 # one parent with HE\n",
    "youth_data$parents_educ [youth_data$father_educ == \"No\" & youth_data$mother_educ == \"No\" ] <- 0 # none of parents with HE\n",
    "\n",
    "# adding the labels to the new variable\n",
    "youth_data$parents_educ <- factor(youth_data$parents_educ, labels = c(\"None with HE\", \"One with HE\", \"Both with HE\"))\n",
    "\n",
    "# checking the new variable\n",
    "table(youth_data$parents_educ)"
   ]
  },
  {
   "cell_type": "markdown",
   "id": "9733d224",
   "metadata": {},
   "source": [
    "We can now run a frequency table and a probability table looking at the association between full-time education and the new variable for parental education."
   ]
  },
  {
   "cell_type": "code",
   "execution_count": null,
   "id": "2608012a",
   "metadata": {},
   "outputs": [],
   "source": [
    "# frequency table\n",
    "table3 <- table(youth_data$full_educ, youth_data$parents_educ)\n",
    "table3 # print the object"
   ]
  },
  {
   "cell_type": "code",
   "execution_count": null,
   "id": "41da2b80",
   "metadata": {},
   "outputs": [],
   "source": [
    "# probability table\n",
    "100*prop.table(table3, margin = 2)"
   ]
  },
  {
   "cell_type": "markdown",
   "id": "8a0b4be2",
   "metadata": {},
   "source": [
    "Based on the percentage table, it appears that a higher percentage of participants whose parents have attained a higher education degree transitioned to full-time education after school (94.91%), compared to those whose parents did not (78.86%)."
   ]
  },
  {
   "cell_type": "markdown",
   "id": "0792a095",
   "metadata": {},
   "source": [
    "### Chi-squared test"
   ]
  },
  {
   "cell_type": "markdown",
   "id": "2af6cdf5",
   "metadata": {},
   "source": [
    "Based on the chi-squared test presented below ($\\chi^{2}$ = 200.5, df = 2, and a p-value < 0.05), we can reject the null hypothesis and conclude that there is a statistically significant association between the transition to full-time education and parental education."
   ]
  },
  {
   "cell_type": "code",
   "execution_count": null,
   "id": "b79c3b92",
   "metadata": {},
   "outputs": [],
   "source": [
    "chisq.test(table3)"
   ]
  },
  {
   "cell_type": "markdown",
   "id": "16d2301d",
   "metadata": {},
   "source": [
    "## 3. Full-time education and GCSE test scores"
   ]
  },
  {
   "cell_type": "markdown",
   "id": "61cb1b87",
   "metadata": {},
   "source": [
    "Now, let's explore the association between GCSE scores and enrollment in full-time education after secondary school. To do this, we can compare the average GCSE scores of individuals who transitioned to full-time education with those who didn't use a t-test.\n",
    "\n",
    "First, let's take a quick look at the variable for GCSE scores. We will examine this variable in more deep this variable in the next exercise. "
   ]
  },
  {
   "cell_type": "code",
   "execution_count": null,
   "id": "3d528559",
   "metadata": {},
   "outputs": [],
   "source": [
    "summary(youth_data$total_gcse)"
   ]
  },
  {
   "cell_type": "markdown",
   "id": "05980180",
   "metadata": {},
   "source": [
    "The variable has a mean of 387.8 and a median of 404.\n",
    "\n",
    "We can use a boxplot to visualise the relationship between the two variables."
   ]
  },
  {
   "cell_type": "code",
   "execution_count": null,
   "id": "9f21604d",
   "metadata": {},
   "outputs": [],
   "source": [
    "ggplot(youth_data, aes(x=full_educ, y=total_gcse, fill=full_educ)) +\n",
    "  geom_boxplot(na.rm = T) +\n",
    "  theme_bw() +\n",
    "  xlab('') + ylab('Total GCSE')"
   ]
  },
  {
   "cell_type": "markdown",
   "id": "15765f50",
   "metadata": {},
   "source": [
    "The boxplot indicates that participants who transitioned to full-time education had a higher score than participants who did not transition. Now, let's perform a t-test to see if the difference in the mean between the two groups is statistically significant.\n",
    "\n",
    "### T-test "
   ]
  },
  {
   "cell_type": "code",
   "execution_count": null,
   "id": "43284e89",
   "metadata": {},
   "outputs": [],
   "source": [
    "t.test(youth_data$total_gcse ~ youth_data$full_educ, var.equal = TRUE)"
   ]
  },
  {
   "cell_type": "markdown",
   "id": "49629dc6",
   "metadata": {},
   "source": [
    "The t-test indicates that there is a statistically significant difference between the means of the two groups (\"transitioned\" and \"did not transition\"), with strong evidence to reject the null hypothesis. Participants who transitioned to full-time education have a significantly higher mean \"total_gcse\" score compared to participants who did not transition to full-time education after school. The confidence interval provides a range within which we can be 95 per cent confident that the true difference in means lies (between -147.92 and -136.37)."
   ]
  },
  {
   "cell_type": "markdown",
   "id": "4c635ac8",
   "metadata": {},
   "source": [
    "\n",
    "-----------------------------------------------------------------------------------------------------------------------------\n",
    "\n",
    "This is the end of this exercise.\n",
    "\n",
    "We hope you are starting to feel more confident about using quantitative methods :)"
   ]
  }
 ],
 "metadata": {
  "kernelspec": {
   "display_name": "R with Stan",
   "language": "R",
   "name": "ir"
  },
  "language_info": {
   "codemirror_mode": "r",
   "file_extension": ".r",
   "mimetype": "text/x-r-source",
   "name": "R",
   "pygments_lexer": "r",
   "version": "4.2.2"
  }
 },
 "nbformat": 4,
 "nbformat_minor": 5
}
